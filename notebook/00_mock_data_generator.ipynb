{
 "cells": [
  {
   "cell_type": "code",
   "execution_count": 4,
   "id": "2a855f72",
   "metadata": {},
   "outputs": [
    {
     "name": "stdout",
     "output_type": "stream",
     "text": [
      "✅ Mock data generated and saved.\n"
     ]
    }
   ],
   "source": [
    "import pandas as pd\n",
    "import numpy as np\n",
    "from faker import Faker\n",
    "import random\n",
    "\n",
    "fake = Faker()\n",
    "np.random.seed(42)\n",
    "\n",
    "# --- 1. Customers ---\n",
    "n_customers = 500\n",
    "customer_ids = [f\"CUST{1000+i}\" for i in range(n_customers)]\n",
    "customers = pd.DataFrame({\n",
    "    \"customer_id\": customer_ids,\n",
    "    \"name\": [fake.name() for _ in range(n_customers)],\n",
    "    \"age\": np.random.normal(40, 12, size=n_customers).astype(int),\n",
    "    \"city\": [fake.city() for _ in range(n_customers)],\n",
    "    \"risk_score\": np.random.choice([None, 0.2, 0.5, 0.9, 1.0], size=n_customers, p=[0.1, 0.3, 0.3, 0.2, 0.1])\n",
    "})\n",
    "# Add missing values & outliers\n",
    "customers.loc[5, 'age'] = None\n",
    "customers.loc[23, 'age'] = 150  # outlier\n",
    "\n",
    "# --- 2. Accounts ---\n",
    "account_types = ['Checking', 'Savings', 'Investment']\n",
    "accounts = []\n",
    "for cid in customer_ids:\n",
    "    for _ in range(random.choice([1, 1, 2])):  # some customers have 2 accounts\n",
    "        account_id = f\"ACC{random.randint(10000,99999)}\"\n",
    "        accounts.append({\n",
    "            \"account_id\": account_id,\n",
    "            \"customer_id\": cid,\n",
    "            \"account_type\": random.choice(account_types),\n",
    "            \"open_date\": fake.date_between(start_date='-5y', end_date='-1y'),\n",
    "            \"balance\": round(np.random.normal(5000, 3000), 2)\n",
    "        })\n",
    "\n",
    "accounts = pd.DataFrame(accounts)\n",
    "accounts.loc[3, 'balance'] = -2000  # anomaly\n",
    "\n",
    "# --- 3. Transactions ---\n",
    "transactions = []\n",
    "for _, row in accounts.iterrows():\n",
    "    acc_id = row['account_id']\n",
    "    for _ in range(random.randint(10, 40)):\n",
    "        tx = {\n",
    "            \"transaction_id\": f\"TX{random.randint(100000, 999999)}\",\n",
    "            \"account_id\": acc_id,\n",
    "            \"timestamp\": fake.date_time_between(start_date='-1y', end_date='now'),\n",
    "            \"amount\": round(np.random.normal(150, 75), 2),\n",
    "            \"type\": random.choice(['debit', 'credit']),\n",
    "            \"is_fraud\": np.random.choice([0, 1], p=[0.97, 0.03])\n",
    "        }\n",
    "        transactions.append(tx)\n",
    "\n",
    "transactions = pd.DataFrame(transactions)\n",
    "transactions.loc[10, 'amount'] = 99999  # outlier\n",
    "transactions.loc[50, 'amount'] = None   # missing\n",
    "\n",
    "# --- Save to CSV ---\n",
    "customers.to_csv('C:/portfolio/bank_project/data/customers.csv', index=False)\n",
    "accounts.to_csv('C:/portfolio/bank_project/data/accounts.csv', index=False)\n",
    "transactions.to_csv('C:/portfolio/bank_project/data/transactions.csv', index=False)\n",
    "\n",
    "print(\"✅ Mock data generated and saved.\")\n"
   ]
  }
 ],
 "metadata": {
  "kernelspec": {
   "display_name": "Python 3",
   "language": "python",
   "name": "python3"
  },
  "language_info": {
   "codemirror_mode": {
    "name": "ipython",
    "version": 3
   },
   "file_extension": ".py",
   "mimetype": "text/x-python",
   "name": "python",
   "nbconvert_exporter": "python",
   "pygments_lexer": "ipython3",
   "version": "3.8.10"
  }
 },
 "nbformat": 4,
 "nbformat_minor": 5
}
