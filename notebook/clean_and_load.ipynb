{
 "cells": [
  {
   "cell_type": "code",
   "execution_count": 1,
   "id": "a697a36a",
   "metadata": {},
   "outputs": [],
   "source": [
    "import pandas as pd\n",
    "import matplotlib.pyplot as plt\n",
    "import seaborn as sns\n",
    "import mysql.connector\n",
    "from mysql.connector import errorcode, IntegrityError, DatabaseError\n",
    "import time"
   ]
  },
  {
   "cell_type": "code",
   "execution_count": 2,
   "id": "6495efe9",
   "metadata": {},
   "outputs": [],
   "source": [
    "# Load the datasets\n",
    "customers = pd.read_csv('C:/portfolio/bank_project/data/customers.csv')\n",
    "accounts = pd.read_csv('C:/portfolio/bank_project/data/accounts.csv')\n",
    "transactions = pd.read_csv('C:/portfolio/bank_project/data/transactions.csv')\n"
   ]
  },
  {
   "cell_type": "markdown",
   "id": "32fea681",
   "metadata": {},
   "source": [
    "#### Data Cleaning"
   ]
  },
  {
   "cell_type": "code",
   "execution_count": 3,
   "id": "a9e85cd2",
   "metadata": {},
   "outputs": [],
   "source": [
    "# Drop rows with missing customer_id or name\n",
    "customers.dropna(subset=['customer_id', 'name'], inplace=True)\n",
    "\n",
    "# Replace outlier age > 100 with median\n",
    "median_age = customers[customers['age'] < 100]['age'].median()\n",
    "customers.loc[customers['age'] > 100, 'age'] = median_age\n",
    "\n",
    "# Fill missing age with median\n",
    "customers['age'].fillna(median_age, inplace=True)\n",
    "\n",
    "# Fill missing risk_score with 0.5 (neutral)\n",
    "customers['risk_score'].fillna(0.5, inplace=True)"
   ]
  },
  {
   "cell_type": "code",
   "execution_count": 4,
   "id": "add81aaa",
   "metadata": {},
   "outputs": [],
   "source": [
    "# Drop negative balances\n",
    "accounts = accounts[accounts['balance'] >= 0]"
   ]
  },
  {
   "cell_type": "code",
   "execution_count": 5,
   "id": "4e026425",
   "metadata": {},
   "outputs": [],
   "source": [
    "# Drop missing amount\n",
    "transactions = transactions.dropna(subset=['amount'])\n",
    "\n",
    "# Cap outliers at 99th percentile\n",
    "cap = transactions['amount'].quantile(0.99)\n",
    "transactions.loc[transactions['amount'] > cap, 'amount'] = cap\n"
   ]
  },
  {
   "cell_type": "code",
   "execution_count": 6,
   "id": "d1b9975c",
   "metadata": {},
   "outputs": [
    {
     "name": "stdout",
     "output_type": "stream",
     "text": [
      "Duplicate account_ids:\n",
      "     account_id customer_id account_type   open_date  balance\n",
      "641   ACC81730    CUST1480     Checking  2023-03-17   3401.9\n"
     ]
    }
   ],
   "source": [
    "# Check for duplicate account_ids\n",
    "duplicates = accounts[accounts.duplicated('account_id')]\n",
    "print(\"Duplicate account_ids:\\n\", duplicates)"
   ]
  },
  {
   "cell_type": "code",
   "execution_count": 7,
   "id": "cb68068d",
   "metadata": {},
   "outputs": [],
   "source": [
    "# Optionally drop them:\n",
    "accounts = accounts.drop_duplicates('account_id')"
   ]
  },
  {
   "cell_type": "markdown",
   "id": "04070d71",
   "metadata": {},
   "source": [
    "### MySQL Connection and Data Insertion"
   ]
  },
  {
   "cell_type": "code",
   "execution_count": null,
   "id": "1fa9eee0",
   "metadata": {},
   "outputs": [
    {
     "name": "stdout",
     "output_type": "stream",
     "text": [
      "Inserting into customers...\n",
      "✅ customers loaded.\n",
      "\n",
      "Inserting into accounts...\n",
      "✅ accounts loaded.\n",
      "\n",
      "Inserting into transactions...\n",
      "✅ transactions loaded.\n",
      "\n",
      "🎉 All data inserted successfully.\n"
     ]
    }
   ],
   "source": [
    "conn = mysql.connector.connect(\n",
    "    host=\"localhost\",\n",
    "    user=\"root\",\n",
    "    password=\"dentalclinic\",\n",
    "    database=\"bank\"\n",
    ")\n",
    "cursor = conn.cursor()\n",
    "\n",
    "def insert_in_chunks(df, insert_sql, table_name, chunk_size=100):\n",
    "    print(f\"Inserting into {table_name}...\")\n",
    "    total = len(df)\n",
    "    for i in range(0, total, chunk_size):\n",
    "        chunk = df.iloc[i:i + chunk_size]\n",
    "        for _, row in chunk.iterrows():\n",
    "            try:\n",
    "                cursor.execute(insert_sql, tuple(row))\n",
    "            except IntegrityError:\n",
    "                pass  # Duplicate primary key\n",
    "            except DatabaseError as e:\n",
    "                print(f\"Lock timeout in {table_name}: {e}. Retrying...\")\n",
    "                time.sleep(2)  # wait and retry\n",
    "                try:\n",
    "                    cursor.execute(insert_sql, tuple(row))\n",
    "                except:\n",
    "                    continue\n",
    "        conn.commit()\n",
    "    print(f\"{table_name} loaded.\\n\")\n",
    "\n",
    "# Insert customers\n",
    "customer_sql = \"\"\"\n",
    "INSERT INTO customers (customer_id, name, age, city, risk_score)\n",
    "VALUES (%s, %s, %s, %s, %s)\n",
    "\"\"\"\n",
    "insert_in_chunks(customers, customer_sql, \"customers\")\n",
    "\n",
    "# Insert accounts\n",
    "accounts = accounts.drop_duplicates('account_id')\n",
    "account_sql = \"\"\"\n",
    "INSERT INTO accounts (account_id, customer_id, account_type, open_date, balance)\n",
    "VALUES (%s, %s, %s, %s, %s)\n",
    "\"\"\"\n",
    "insert_in_chunks(accounts, account_sql, \"accounts\")\n",
    "\n",
    "# Insert transactions\n",
    "transactions = transactions.drop_duplicates('transaction_id')\n",
    "tx_sql = \"\"\"\n",
    "INSERT INTO transactions (transaction_id, account_id, timestamp, amount, type, is_fraud)\n",
    "VALUES (%s, %s, %s, %s, %s, %s)\n",
    "\"\"\"\n",
    "insert_in_chunks(transactions, tx_sql, \"transactions\")\n",
    "\n",
    "cursor.close()\n",
    "conn.close()\n",
    "print(\"All data inserted successfully.\")\n"
   ]
  }
 ],
 "metadata": {
  "kernelspec": {
   "display_name": "Python 3",
   "language": "python",
   "name": "python3"
  },
  "language_info": {
   "codemirror_mode": {
    "name": "ipython",
    "version": 3
   },
   "file_extension": ".py",
   "mimetype": "text/x-python",
   "name": "python",
   "nbconvert_exporter": "python",
   "pygments_lexer": "ipython3",
   "version": "3.8.10"
  }
 },
 "nbformat": 4,
 "nbformat_minor": 5
}
