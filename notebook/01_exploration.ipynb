{
 "cells": [
  {
   "cell_type": "code",
   "execution_count": 1,
   "id": "98ccd9fb",
   "metadata": {},
   "outputs": [
    {
     "name": "stdout",
     "output_type": "stream",
     "text": [
      "📄 Customers:\n"
     ]
    },
    {
     "data": {
      "application/vnd.microsoft.datawrangler.viewer.v0+json": {
       "columns": [
        {
         "name": "index",
         "rawType": "int64",
         "type": "integer"
        },
        {
         "name": "customer_id",
         "rawType": "object",
         "type": "string"
        },
        {
         "name": "name",
         "rawType": "object",
         "type": "string"
        },
        {
         "name": "age",
         "rawType": "float64",
         "type": "float"
        },
        {
         "name": "city",
         "rawType": "object",
         "type": "string"
        },
        {
         "name": "risk_score",
         "rawType": "float64",
         "type": "float"
        }
       ],
       "ref": "38fb9395-5f60-4953-8a83-72010ca0e8e6",
       "rows": [
        [
         "0",
         "CUST1000",
         "Justin Sullivan",
         "45.0",
         "Allenfurt",
         "0.5"
        ],
        [
         "1",
         "CUST1001",
         "Darryl Murray",
         "38.0",
         "Kathychester",
         "0.5"
        ],
        [
         "2",
         "CUST1002",
         "Joseph Pineda",
         "47.0",
         "Port Janetshire",
         "0.2"
        ],
        [
         "3",
         "CUST1003",
         "Diana Ramos DVM",
         "58.0",
         "Smithfurt",
         "1.0"
        ],
        [
         "4",
         "CUST1004",
         "Charles Campos",
         "37.0",
         "Nicolefort",
         "0.5"
        ]
       ],
       "shape": {
        "columns": 5,
        "rows": 5
       }
      },
      "text/html": [
       "<div>\n",
       "<style scoped>\n",
       "    .dataframe tbody tr th:only-of-type {\n",
       "        vertical-align: middle;\n",
       "    }\n",
       "\n",
       "    .dataframe tbody tr th {\n",
       "        vertical-align: top;\n",
       "    }\n",
       "\n",
       "    .dataframe thead th {\n",
       "        text-align: right;\n",
       "    }\n",
       "</style>\n",
       "<table border=\"1\" class=\"dataframe\">\n",
       "  <thead>\n",
       "    <tr style=\"text-align: right;\">\n",
       "      <th></th>\n",
       "      <th>customer_id</th>\n",
       "      <th>name</th>\n",
       "      <th>age</th>\n",
       "      <th>city</th>\n",
       "      <th>risk_score</th>\n",
       "    </tr>\n",
       "  </thead>\n",
       "  <tbody>\n",
       "    <tr>\n",
       "      <th>0</th>\n",
       "      <td>CUST1000</td>\n",
       "      <td>Justin Sullivan</td>\n",
       "      <td>45.0</td>\n",
       "      <td>Allenfurt</td>\n",
       "      <td>0.5</td>\n",
       "    </tr>\n",
       "    <tr>\n",
       "      <th>1</th>\n",
       "      <td>CUST1001</td>\n",
       "      <td>Darryl Murray</td>\n",
       "      <td>38.0</td>\n",
       "      <td>Kathychester</td>\n",
       "      <td>0.5</td>\n",
       "    </tr>\n",
       "    <tr>\n",
       "      <th>2</th>\n",
       "      <td>CUST1002</td>\n",
       "      <td>Joseph Pineda</td>\n",
       "      <td>47.0</td>\n",
       "      <td>Port Janetshire</td>\n",
       "      <td>0.2</td>\n",
       "    </tr>\n",
       "    <tr>\n",
       "      <th>3</th>\n",
       "      <td>CUST1003</td>\n",
       "      <td>Diana Ramos DVM</td>\n",
       "      <td>58.0</td>\n",
       "      <td>Smithfurt</td>\n",
       "      <td>1.0</td>\n",
       "    </tr>\n",
       "    <tr>\n",
       "      <th>4</th>\n",
       "      <td>CUST1004</td>\n",
       "      <td>Charles Campos</td>\n",
       "      <td>37.0</td>\n",
       "      <td>Nicolefort</td>\n",
       "      <td>0.5</td>\n",
       "    </tr>\n",
       "  </tbody>\n",
       "</table>\n",
       "</div>"
      ],
      "text/plain": [
       "  customer_id             name   age             city  risk_score\n",
       "0    CUST1000  Justin Sullivan  45.0        Allenfurt         0.5\n",
       "1    CUST1001    Darryl Murray  38.0     Kathychester         0.5\n",
       "2    CUST1002    Joseph Pineda  47.0  Port Janetshire         0.2\n",
       "3    CUST1003  Diana Ramos DVM  58.0        Smithfurt         1.0\n",
       "4    CUST1004   Charles Campos  37.0       Nicolefort         0.5"
      ]
     },
     "metadata": {},
     "output_type": "display_data"
    },
    {
     "name": "stdout",
     "output_type": "stream",
     "text": [
      "📄 Accounts:\n"
     ]
    },
    {
     "data": {
      "application/vnd.microsoft.datawrangler.viewer.v0+json": {
       "columns": [
        {
         "name": "index",
         "rawType": "int64",
         "type": "integer"
        },
        {
         "name": "account_id",
         "rawType": "object",
         "type": "string"
        },
        {
         "name": "customer_id",
         "rawType": "object",
         "type": "string"
        },
        {
         "name": "account_type",
         "rawType": "object",
         "type": "string"
        },
        {
         "name": "open_date",
         "rawType": "object",
         "type": "string"
        },
        {
         "name": "balance",
         "rawType": "float64",
         "type": "float"
        }
       ],
       "ref": "acaf1e99-290a-4587-9696-9694ef5333c9",
       "rows": [
        [
         "0",
         "ACC55430",
         "CUST1000",
         "Savings",
         "2023-12-29",
         "4498.65"
        ],
        [
         "1",
         "ACC81200",
         "CUST1001",
         "Checking",
         "2021-01-19",
         "5440.14"
        ],
        [
         "2",
         "ACC58255",
         "CUST1002",
         "Investment",
         "2020-08-22",
         "8619.53"
        ],
        [
         "3",
         "ACC99702",
         "CUST1003",
         "Savings",
         "2022-06-10",
         "-2000.0"
        ],
        [
         "4",
         "ACC68141",
         "CUST1004",
         "Checking",
         "2022-10-10",
         "6106.02"
        ]
       ],
       "shape": {
        "columns": 5,
        "rows": 5
       }
      },
      "text/html": [
       "<div>\n",
       "<style scoped>\n",
       "    .dataframe tbody tr th:only-of-type {\n",
       "        vertical-align: middle;\n",
       "    }\n",
       "\n",
       "    .dataframe tbody tr th {\n",
       "        vertical-align: top;\n",
       "    }\n",
       "\n",
       "    .dataframe thead th {\n",
       "        text-align: right;\n",
       "    }\n",
       "</style>\n",
       "<table border=\"1\" class=\"dataframe\">\n",
       "  <thead>\n",
       "    <tr style=\"text-align: right;\">\n",
       "      <th></th>\n",
       "      <th>account_id</th>\n",
       "      <th>customer_id</th>\n",
       "      <th>account_type</th>\n",
       "      <th>open_date</th>\n",
       "      <th>balance</th>\n",
       "    </tr>\n",
       "  </thead>\n",
       "  <tbody>\n",
       "    <tr>\n",
       "      <th>0</th>\n",
       "      <td>ACC55430</td>\n",
       "      <td>CUST1000</td>\n",
       "      <td>Savings</td>\n",
       "      <td>2023-12-29</td>\n",
       "      <td>4498.65</td>\n",
       "    </tr>\n",
       "    <tr>\n",
       "      <th>1</th>\n",
       "      <td>ACC81200</td>\n",
       "      <td>CUST1001</td>\n",
       "      <td>Checking</td>\n",
       "      <td>2021-01-19</td>\n",
       "      <td>5440.14</td>\n",
       "    </tr>\n",
       "    <tr>\n",
       "      <th>2</th>\n",
       "      <td>ACC58255</td>\n",
       "      <td>CUST1002</td>\n",
       "      <td>Investment</td>\n",
       "      <td>2020-08-22</td>\n",
       "      <td>8619.53</td>\n",
       "    </tr>\n",
       "    <tr>\n",
       "      <th>3</th>\n",
       "      <td>ACC99702</td>\n",
       "      <td>CUST1003</td>\n",
       "      <td>Savings</td>\n",
       "      <td>2022-06-10</td>\n",
       "      <td>-2000.00</td>\n",
       "    </tr>\n",
       "    <tr>\n",
       "      <th>4</th>\n",
       "      <td>ACC68141</td>\n",
       "      <td>CUST1004</td>\n",
       "      <td>Checking</td>\n",
       "      <td>2022-10-10</td>\n",
       "      <td>6106.02</td>\n",
       "    </tr>\n",
       "  </tbody>\n",
       "</table>\n",
       "</div>"
      ],
      "text/plain": [
       "  account_id customer_id account_type   open_date  balance\n",
       "0   ACC55430    CUST1000      Savings  2023-12-29  4498.65\n",
       "1   ACC81200    CUST1001     Checking  2021-01-19  5440.14\n",
       "2   ACC58255    CUST1002   Investment  2020-08-22  8619.53\n",
       "3   ACC99702    CUST1003      Savings  2022-06-10 -2000.00\n",
       "4   ACC68141    CUST1004     Checking  2022-10-10  6106.02"
      ]
     },
     "metadata": {},
     "output_type": "display_data"
    },
    {
     "name": "stdout",
     "output_type": "stream",
     "text": [
      "📄 Transactions:\n"
     ]
    },
    {
     "data": {
      "application/vnd.microsoft.datawrangler.viewer.v0+json": {
       "columns": [
        {
         "name": "index",
         "rawType": "int64",
         "type": "integer"
        },
        {
         "name": "transaction_id",
         "rawType": "object",
         "type": "string"
        },
        {
         "name": "account_id",
         "rawType": "object",
         "type": "string"
        },
        {
         "name": "timestamp",
         "rawType": "object",
         "type": "string"
        },
        {
         "name": "amount",
         "rawType": "float64",
         "type": "float"
        },
        {
         "name": "type",
         "rawType": "object",
         "type": "string"
        },
        {
         "name": "is_fraud",
         "rawType": "int64",
         "type": "integer"
        }
       ],
       "ref": "16451d1f-0a1e-44b1-94ab-695755cbbd3a",
       "rows": [
        [
         "0",
         "TX196775",
         "ACC55430",
         "2024-11-30 01:00:01",
         "128.9",
         "debit",
         "0"
        ],
        [
         "1",
         "TX444561",
         "ACC55430",
         "2025-01-13 11:10:14",
         "168.53",
         "debit",
         "0"
        ],
        [
         "2",
         "TX879364",
         "ACC55430",
         "2024-12-03 09:56:15",
         "156.55",
         "debit",
         "0"
        ],
        [
         "3",
         "TX855948",
         "ACC55430",
         "2025-02-19 04:40:32",
         "141.78",
         "credit",
         "0"
        ],
        [
         "4",
         "TX962199",
         "ACC55430",
         "2025-04-15 01:43:19",
         "104.7",
         "credit",
         "0"
        ]
       ],
       "shape": {
        "columns": 6,
        "rows": 5
       }
      },
      "text/html": [
       "<div>\n",
       "<style scoped>\n",
       "    .dataframe tbody tr th:only-of-type {\n",
       "        vertical-align: middle;\n",
       "    }\n",
       "\n",
       "    .dataframe tbody tr th {\n",
       "        vertical-align: top;\n",
       "    }\n",
       "\n",
       "    .dataframe thead th {\n",
       "        text-align: right;\n",
       "    }\n",
       "</style>\n",
       "<table border=\"1\" class=\"dataframe\">\n",
       "  <thead>\n",
       "    <tr style=\"text-align: right;\">\n",
       "      <th></th>\n",
       "      <th>transaction_id</th>\n",
       "      <th>account_id</th>\n",
       "      <th>timestamp</th>\n",
       "      <th>amount</th>\n",
       "      <th>type</th>\n",
       "      <th>is_fraud</th>\n",
       "    </tr>\n",
       "  </thead>\n",
       "  <tbody>\n",
       "    <tr>\n",
       "      <th>0</th>\n",
       "      <td>TX196775</td>\n",
       "      <td>ACC55430</td>\n",
       "      <td>2024-11-30 01:00:01</td>\n",
       "      <td>128.90</td>\n",
       "      <td>debit</td>\n",
       "      <td>0</td>\n",
       "    </tr>\n",
       "    <tr>\n",
       "      <th>1</th>\n",
       "      <td>TX444561</td>\n",
       "      <td>ACC55430</td>\n",
       "      <td>2025-01-13 11:10:14</td>\n",
       "      <td>168.53</td>\n",
       "      <td>debit</td>\n",
       "      <td>0</td>\n",
       "    </tr>\n",
       "    <tr>\n",
       "      <th>2</th>\n",
       "      <td>TX879364</td>\n",
       "      <td>ACC55430</td>\n",
       "      <td>2024-12-03 09:56:15</td>\n",
       "      <td>156.55</td>\n",
       "      <td>debit</td>\n",
       "      <td>0</td>\n",
       "    </tr>\n",
       "    <tr>\n",
       "      <th>3</th>\n",
       "      <td>TX855948</td>\n",
       "      <td>ACC55430</td>\n",
       "      <td>2025-02-19 04:40:32</td>\n",
       "      <td>141.78</td>\n",
       "      <td>credit</td>\n",
       "      <td>0</td>\n",
       "    </tr>\n",
       "    <tr>\n",
       "      <th>4</th>\n",
       "      <td>TX962199</td>\n",
       "      <td>ACC55430</td>\n",
       "      <td>2025-04-15 01:43:19</td>\n",
       "      <td>104.70</td>\n",
       "      <td>credit</td>\n",
       "      <td>0</td>\n",
       "    </tr>\n",
       "  </tbody>\n",
       "</table>\n",
       "</div>"
      ],
      "text/plain": [
       "  transaction_id account_id            timestamp  amount    type  is_fraud\n",
       "0       TX196775   ACC55430  2024-11-30 01:00:01  128.90   debit         0\n",
       "1       TX444561   ACC55430  2025-01-13 11:10:14  168.53   debit         0\n",
       "2       TX879364   ACC55430  2024-12-03 09:56:15  156.55   debit         0\n",
       "3       TX855948   ACC55430  2025-02-19 04:40:32  141.78  credit         0\n",
       "4       TX962199   ACC55430  2025-04-15 01:43:19  104.70  credit         0"
      ]
     },
     "metadata": {},
     "output_type": "display_data"
    }
   ],
   "source": [
    "import pandas as pd\n",
    "import matplotlib.pyplot as plt\n",
    "import seaborn as sns\n",
    "\n",
    "# Load the datasets\n",
    "customers = pd.read_csv('C:/portfolio/bank_project/data/customers.csv')\n",
    "accounts = pd.read_csv('C:/portfolio/bank_project/data/accounts.csv')\n",
    "transactions = pd.read_csv('C:/portfolio/bank_project/data/transactions.csv')\n",
    "\n",
    "# Quick preview\n",
    "print(\"📄 Customers:\")\n",
    "display(customers.head())\n",
    "\n",
    "print(\"📄 Accounts:\")\n",
    "display(accounts.head())\n",
    "\n",
    "print(\"📄 Transactions:\")\n",
    "display(transactions.head())\n"
   ]
  },
  {
   "cell_type": "code",
   "execution_count": 2,
   "id": "a5614d4e",
   "metadata": {},
   "outputs": [
    {
     "name": "stdout",
     "output_type": "stream",
     "text": [
      "Customers: (500, 5)\n",
      "Accounts: (669, 5)\n",
      "Transactions: (16808, 6)\n",
      "\n",
      "Missing values:\n",
      "Customers:\n",
      " customer_id     0\n",
      "name            0\n",
      "age             1\n",
      "city            0\n",
      "risk_score     44\n",
      "dtype: int64\n",
      "Accounts:\n",
      " account_id      0\n",
      "customer_id     0\n",
      "account_type    0\n",
      "open_date       0\n",
      "balance         0\n",
      "dtype: int64\n",
      "Transactions:\n",
      " transaction_id    0\n",
      "account_id        0\n",
      "timestamp         0\n",
      "amount            1\n",
      "type              0\n",
      "is_fraud          0\n",
      "dtype: int64\n"
     ]
    }
   ],
   "source": [
    "# Dataset shapes\n",
    "print(f\"Customers: {customers.shape}\")\n",
    "print(f\"Accounts: {accounts.shape}\")\n",
    "print(f\"Transactions: {transactions.shape}\")\n",
    "\n",
    "# Null values\n",
    "print(\"\\nMissing values:\")\n",
    "print(\"Customers:\\n\", customers.isnull().sum())\n",
    "print(\"Accounts:\\n\", accounts.isnull().sum())\n",
    "print(\"Transactions:\\n\", transactions.isnull().sum())\n"
   ]
  },
  {
   "cell_type": "code",
   "execution_count": 3,
   "id": "9e409b84",
   "metadata": {},
   "outputs": [
    {
     "name": "stdout",
     "output_type": "stream",
     "text": [
      "Customer Data Summary:\n"
     ]
    },
    {
     "data": {
      "application/vnd.microsoft.datawrangler.viewer.v0+json": {
       "columns": [
        {
         "name": "index",
         "rawType": "object",
         "type": "string"
        },
        {
         "name": "customer_id",
         "rawType": "object",
         "type": "unknown"
        },
        {
         "name": "name",
         "rawType": "object",
         "type": "unknown"
        },
        {
         "name": "age",
         "rawType": "float64",
         "type": "float"
        },
        {
         "name": "city",
         "rawType": "object",
         "type": "unknown"
        },
        {
         "name": "risk_score",
         "rawType": "float64",
         "type": "float"
        }
       ],
       "ref": "49612a9b-dc60-4010-ac51-ecd29bb2d03b",
       "rows": [
        [
         "count",
         "500",
         "500",
         "499.0",
         "500",
         "456.0"
        ],
        [
         "unique",
         "500",
         "498",
         null,
         "486",
         null
        ],
        [
         "top",
         "CUST1000",
         "Gina Gonzalez",
         null,
         "Port Shane",
         null
        ],
        [
         "freq",
         "1",
         "2",
         null,
         "2",
         null
        ],
        [
         "mean",
         null,
         null,
         "39.85370741482966",
         null,
         "0.537061403508772"
        ],
        [
         "std",
         null,
         null,
         "12.74481709297937",
         null,
         "0.3039073827997991"
        ],
        [
         "min",
         null,
         null,
         "1.0",
         null,
         "0.2"
        ],
        [
         "25%",
         null,
         null,
         "31.0",
         null,
         "0.2"
        ],
        [
         "50%",
         null,
         null,
         "40.0",
         null,
         "0.5"
        ],
        [
         "75%",
         null,
         null,
         "47.0",
         null,
         "0.9"
        ],
        [
         "max",
         null,
         null,
         "150.0",
         null,
         "1.0"
        ]
       ],
       "shape": {
        "columns": 5,
        "rows": 11
       }
      },
      "text/html": [
       "<div>\n",
       "<style scoped>\n",
       "    .dataframe tbody tr th:only-of-type {\n",
       "        vertical-align: middle;\n",
       "    }\n",
       "\n",
       "    .dataframe tbody tr th {\n",
       "        vertical-align: top;\n",
       "    }\n",
       "\n",
       "    .dataframe thead th {\n",
       "        text-align: right;\n",
       "    }\n",
       "</style>\n",
       "<table border=\"1\" class=\"dataframe\">\n",
       "  <thead>\n",
       "    <tr style=\"text-align: right;\">\n",
       "      <th></th>\n",
       "      <th>customer_id</th>\n",
       "      <th>name</th>\n",
       "      <th>age</th>\n",
       "      <th>city</th>\n",
       "      <th>risk_score</th>\n",
       "    </tr>\n",
       "  </thead>\n",
       "  <tbody>\n",
       "    <tr>\n",
       "      <th>count</th>\n",
       "      <td>500</td>\n",
       "      <td>500</td>\n",
       "      <td>499.000000</td>\n",
       "      <td>500</td>\n",
       "      <td>456.000000</td>\n",
       "    </tr>\n",
       "    <tr>\n",
       "      <th>unique</th>\n",
       "      <td>500</td>\n",
       "      <td>498</td>\n",
       "      <td>NaN</td>\n",
       "      <td>486</td>\n",
       "      <td>NaN</td>\n",
       "    </tr>\n",
       "    <tr>\n",
       "      <th>top</th>\n",
       "      <td>CUST1000</td>\n",
       "      <td>Gina Gonzalez</td>\n",
       "      <td>NaN</td>\n",
       "      <td>Port Shane</td>\n",
       "      <td>NaN</td>\n",
       "    </tr>\n",
       "    <tr>\n",
       "      <th>freq</th>\n",
       "      <td>1</td>\n",
       "      <td>2</td>\n",
       "      <td>NaN</td>\n",
       "      <td>2</td>\n",
       "      <td>NaN</td>\n",
       "    </tr>\n",
       "    <tr>\n",
       "      <th>mean</th>\n",
       "      <td>NaN</td>\n",
       "      <td>NaN</td>\n",
       "      <td>39.853707</td>\n",
       "      <td>NaN</td>\n",
       "      <td>0.537061</td>\n",
       "    </tr>\n",
       "    <tr>\n",
       "      <th>std</th>\n",
       "      <td>NaN</td>\n",
       "      <td>NaN</td>\n",
       "      <td>12.744817</td>\n",
       "      <td>NaN</td>\n",
       "      <td>0.303907</td>\n",
       "    </tr>\n",
       "    <tr>\n",
       "      <th>min</th>\n",
       "      <td>NaN</td>\n",
       "      <td>NaN</td>\n",
       "      <td>1.000000</td>\n",
       "      <td>NaN</td>\n",
       "      <td>0.200000</td>\n",
       "    </tr>\n",
       "    <tr>\n",
       "      <th>25%</th>\n",
       "      <td>NaN</td>\n",
       "      <td>NaN</td>\n",
       "      <td>31.000000</td>\n",
       "      <td>NaN</td>\n",
       "      <td>0.200000</td>\n",
       "    </tr>\n",
       "    <tr>\n",
       "      <th>50%</th>\n",
       "      <td>NaN</td>\n",
       "      <td>NaN</td>\n",
       "      <td>40.000000</td>\n",
       "      <td>NaN</td>\n",
       "      <td>0.500000</td>\n",
       "    </tr>\n",
       "    <tr>\n",
       "      <th>75%</th>\n",
       "      <td>NaN</td>\n",
       "      <td>NaN</td>\n",
       "      <td>47.000000</td>\n",
       "      <td>NaN</td>\n",
       "      <td>0.900000</td>\n",
       "    </tr>\n",
       "    <tr>\n",
       "      <th>max</th>\n",
       "      <td>NaN</td>\n",
       "      <td>NaN</td>\n",
       "      <td>150.000000</td>\n",
       "      <td>NaN</td>\n",
       "      <td>1.000000</td>\n",
       "    </tr>\n",
       "  </tbody>\n",
       "</table>\n",
       "</div>"
      ],
      "text/plain": [
       "       customer_id           name         age        city  risk_score\n",
       "count          500            500  499.000000         500  456.000000\n",
       "unique         500            498         NaN         486         NaN\n",
       "top       CUST1000  Gina Gonzalez         NaN  Port Shane         NaN\n",
       "freq             1              2         NaN           2         NaN\n",
       "mean           NaN            NaN   39.853707         NaN    0.537061\n",
       "std            NaN            NaN   12.744817         NaN    0.303907\n",
       "min            NaN            NaN    1.000000         NaN    0.200000\n",
       "25%            NaN            NaN   31.000000         NaN    0.200000\n",
       "50%            NaN            NaN   40.000000         NaN    0.500000\n",
       "75%            NaN            NaN   47.000000         NaN    0.900000\n",
       "max            NaN            NaN  150.000000         NaN    1.000000"
      ]
     },
     "metadata": {},
     "output_type": "display_data"
    },
    {
     "name": "stdout",
     "output_type": "stream",
     "text": [
      "Account Data Summary:\n"
     ]
    },
    {
     "data": {
      "application/vnd.microsoft.datawrangler.viewer.v0+json": {
       "columns": [
        {
         "name": "index",
         "rawType": "object",
         "type": "string"
        },
        {
         "name": "account_id",
         "rawType": "object",
         "type": "unknown"
        },
        {
         "name": "customer_id",
         "rawType": "object",
         "type": "unknown"
        },
        {
         "name": "account_type",
         "rawType": "object",
         "type": "unknown"
        },
        {
         "name": "open_date",
         "rawType": "object",
         "type": "unknown"
        },
        {
         "name": "balance",
         "rawType": "float64",
         "type": "float"
        }
       ],
       "ref": "c1bab0bc-4459-4be3-8b66-6e8ebaf5855a",
       "rows": [
        [
         "count",
         "669",
         "669",
         "669",
         "669",
         "669.0"
        ],
        [
         "unique",
         "668",
         "500",
         "3",
         "541",
         null
        ],
        [
         "top",
         "ACC81730",
         "CUST1149",
         "Investment",
         "2022-01-22",
         null
        ],
        [
         "freq",
         "2",
         "2",
         "230",
         "4",
         null
        ],
        [
         "mean",
         null,
         null,
         null,
         null,
         "5243.56264573991"
        ],
        [
         "std",
         null,
         null,
         null,
         null,
         "3025.659344623253"
        ],
        [
         "min",
         null,
         null,
         null,
         null,
         "-3688.77"
        ],
        [
         "25%",
         null,
         null,
         null,
         null,
         "3193.36"
        ],
        [
         "50%",
         null,
         null,
         null,
         null,
         "5230.47"
        ],
        [
         "75%",
         null,
         null,
         null,
         null,
         "7197.92"
        ],
        [
         "max",
         null,
         null,
         null,
         null,
         "12805.05"
        ]
       ],
       "shape": {
        "columns": 5,
        "rows": 11
       }
      },
      "text/html": [
       "<div>\n",
       "<style scoped>\n",
       "    .dataframe tbody tr th:only-of-type {\n",
       "        vertical-align: middle;\n",
       "    }\n",
       "\n",
       "    .dataframe tbody tr th {\n",
       "        vertical-align: top;\n",
       "    }\n",
       "\n",
       "    .dataframe thead th {\n",
       "        text-align: right;\n",
       "    }\n",
       "</style>\n",
       "<table border=\"1\" class=\"dataframe\">\n",
       "  <thead>\n",
       "    <tr style=\"text-align: right;\">\n",
       "      <th></th>\n",
       "      <th>account_id</th>\n",
       "      <th>customer_id</th>\n",
       "      <th>account_type</th>\n",
       "      <th>open_date</th>\n",
       "      <th>balance</th>\n",
       "    </tr>\n",
       "  </thead>\n",
       "  <tbody>\n",
       "    <tr>\n",
       "      <th>count</th>\n",
       "      <td>669</td>\n",
       "      <td>669</td>\n",
       "      <td>669</td>\n",
       "      <td>669</td>\n",
       "      <td>669.000000</td>\n",
       "    </tr>\n",
       "    <tr>\n",
       "      <th>unique</th>\n",
       "      <td>668</td>\n",
       "      <td>500</td>\n",
       "      <td>3</td>\n",
       "      <td>541</td>\n",
       "      <td>NaN</td>\n",
       "    </tr>\n",
       "    <tr>\n",
       "      <th>top</th>\n",
       "      <td>ACC81730</td>\n",
       "      <td>CUST1149</td>\n",
       "      <td>Investment</td>\n",
       "      <td>2022-01-22</td>\n",
       "      <td>NaN</td>\n",
       "    </tr>\n",
       "    <tr>\n",
       "      <th>freq</th>\n",
       "      <td>2</td>\n",
       "      <td>2</td>\n",
       "      <td>230</td>\n",
       "      <td>4</td>\n",
       "      <td>NaN</td>\n",
       "    </tr>\n",
       "    <tr>\n",
       "      <th>mean</th>\n",
       "      <td>NaN</td>\n",
       "      <td>NaN</td>\n",
       "      <td>NaN</td>\n",
       "      <td>NaN</td>\n",
       "      <td>5243.562646</td>\n",
       "    </tr>\n",
       "    <tr>\n",
       "      <th>std</th>\n",
       "      <td>NaN</td>\n",
       "      <td>NaN</td>\n",
       "      <td>NaN</td>\n",
       "      <td>NaN</td>\n",
       "      <td>3025.659345</td>\n",
       "    </tr>\n",
       "    <tr>\n",
       "      <th>min</th>\n",
       "      <td>NaN</td>\n",
       "      <td>NaN</td>\n",
       "      <td>NaN</td>\n",
       "      <td>NaN</td>\n",
       "      <td>-3688.770000</td>\n",
       "    </tr>\n",
       "    <tr>\n",
       "      <th>25%</th>\n",
       "      <td>NaN</td>\n",
       "      <td>NaN</td>\n",
       "      <td>NaN</td>\n",
       "      <td>NaN</td>\n",
       "      <td>3193.360000</td>\n",
       "    </tr>\n",
       "    <tr>\n",
       "      <th>50%</th>\n",
       "      <td>NaN</td>\n",
       "      <td>NaN</td>\n",
       "      <td>NaN</td>\n",
       "      <td>NaN</td>\n",
       "      <td>5230.470000</td>\n",
       "    </tr>\n",
       "    <tr>\n",
       "      <th>75%</th>\n",
       "      <td>NaN</td>\n",
       "      <td>NaN</td>\n",
       "      <td>NaN</td>\n",
       "      <td>NaN</td>\n",
       "      <td>7197.920000</td>\n",
       "    </tr>\n",
       "    <tr>\n",
       "      <th>max</th>\n",
       "      <td>NaN</td>\n",
       "      <td>NaN</td>\n",
       "      <td>NaN</td>\n",
       "      <td>NaN</td>\n",
       "      <td>12805.050000</td>\n",
       "    </tr>\n",
       "  </tbody>\n",
       "</table>\n",
       "</div>"
      ],
      "text/plain": [
       "       account_id customer_id account_type   open_date       balance\n",
       "count         669         669          669         669    669.000000\n",
       "unique        668         500            3         541           NaN\n",
       "top      ACC81730    CUST1149   Investment  2022-01-22           NaN\n",
       "freq            2           2          230           4           NaN\n",
       "mean          NaN         NaN          NaN         NaN   5243.562646\n",
       "std           NaN         NaN          NaN         NaN   3025.659345\n",
       "min           NaN         NaN          NaN         NaN  -3688.770000\n",
       "25%           NaN         NaN          NaN         NaN   3193.360000\n",
       "50%           NaN         NaN          NaN         NaN   5230.470000\n",
       "75%           NaN         NaN          NaN         NaN   7197.920000\n",
       "max           NaN         NaN          NaN         NaN  12805.050000"
      ]
     },
     "metadata": {},
     "output_type": "display_data"
    },
    {
     "name": "stdout",
     "output_type": "stream",
     "text": [
      "Transaction Data Summary:\n"
     ]
    },
    {
     "data": {
      "application/vnd.microsoft.datawrangler.viewer.v0+json": {
       "columns": [
        {
         "name": "index",
         "rawType": "object",
         "type": "string"
        },
        {
         "name": "transaction_id",
         "rawType": "object",
         "type": "unknown"
        },
        {
         "name": "account_id",
         "rawType": "object",
         "type": "unknown"
        },
        {
         "name": "timestamp",
         "rawType": "object",
         "type": "unknown"
        },
        {
         "name": "amount",
         "rawType": "float64",
         "type": "float"
        },
        {
         "name": "type",
         "rawType": "object",
         "type": "unknown"
        },
        {
         "name": "is_fraud",
         "rawType": "float64",
         "type": "float"
        }
       ],
       "ref": "a1da7373-8ec6-41ce-a48a-6683d7c42c11",
       "rows": [
        [
         "count",
         "16808",
         "16808",
         "16808",
         "16807.0",
         "16808",
         "16808.0"
        ],
        [
         "unique",
         "16659",
         "668",
         "16806",
         null,
         "2",
         null
        ],
        [
         "top",
         "TX978293",
         "ACC81730",
         "2024-06-23 09:06:52",
         null,
         "debit",
         null
        ],
        [
         "freq",
         "3",
         "64",
         "2",
         null,
         "8490",
         null
        ],
        [
         "mean",
         null,
         null,
         null,
         "156.1058172190159",
         null,
         "0.028914802475011898"
        ],
        [
         "std",
         null,
         null,
         null,
         "773.8216058330634",
         null,
         "0.16757209591727718"
        ],
        [
         "min",
         null,
         null,
         null,
         "-163.96",
         null,
         "0.0"
        ],
        [
         "25%",
         null,
         null,
         null,
         "99.59",
         null,
         "0.0"
        ],
        [
         "50%",
         null,
         null,
         null,
         "150.67",
         null,
         "0.0"
        ],
        [
         "75%",
         null,
         null,
         null,
         "200.95",
         null,
         "0.0"
        ],
        [
         "max",
         null,
         null,
         null,
         "99999.0",
         null,
         "1.0"
        ]
       ],
       "shape": {
        "columns": 6,
        "rows": 11
       }
      },
      "text/html": [
       "<div>\n",
       "<style scoped>\n",
       "    .dataframe tbody tr th:only-of-type {\n",
       "        vertical-align: middle;\n",
       "    }\n",
       "\n",
       "    .dataframe tbody tr th {\n",
       "        vertical-align: top;\n",
       "    }\n",
       "\n",
       "    .dataframe thead th {\n",
       "        text-align: right;\n",
       "    }\n",
       "</style>\n",
       "<table border=\"1\" class=\"dataframe\">\n",
       "  <thead>\n",
       "    <tr style=\"text-align: right;\">\n",
       "      <th></th>\n",
       "      <th>transaction_id</th>\n",
       "      <th>account_id</th>\n",
       "      <th>timestamp</th>\n",
       "      <th>amount</th>\n",
       "      <th>type</th>\n",
       "      <th>is_fraud</th>\n",
       "    </tr>\n",
       "  </thead>\n",
       "  <tbody>\n",
       "    <tr>\n",
       "      <th>count</th>\n",
       "      <td>16808</td>\n",
       "      <td>16808</td>\n",
       "      <td>16808</td>\n",
       "      <td>16807.000000</td>\n",
       "      <td>16808</td>\n",
       "      <td>16808.000000</td>\n",
       "    </tr>\n",
       "    <tr>\n",
       "      <th>unique</th>\n",
       "      <td>16659</td>\n",
       "      <td>668</td>\n",
       "      <td>16806</td>\n",
       "      <td>NaN</td>\n",
       "      <td>2</td>\n",
       "      <td>NaN</td>\n",
       "    </tr>\n",
       "    <tr>\n",
       "      <th>top</th>\n",
       "      <td>TX978293</td>\n",
       "      <td>ACC81730</td>\n",
       "      <td>2024-06-23 09:06:52</td>\n",
       "      <td>NaN</td>\n",
       "      <td>debit</td>\n",
       "      <td>NaN</td>\n",
       "    </tr>\n",
       "    <tr>\n",
       "      <th>freq</th>\n",
       "      <td>3</td>\n",
       "      <td>64</td>\n",
       "      <td>2</td>\n",
       "      <td>NaN</td>\n",
       "      <td>8490</td>\n",
       "      <td>NaN</td>\n",
       "    </tr>\n",
       "    <tr>\n",
       "      <th>mean</th>\n",
       "      <td>NaN</td>\n",
       "      <td>NaN</td>\n",
       "      <td>NaN</td>\n",
       "      <td>156.105817</td>\n",
       "      <td>NaN</td>\n",
       "      <td>0.028915</td>\n",
       "    </tr>\n",
       "    <tr>\n",
       "      <th>std</th>\n",
       "      <td>NaN</td>\n",
       "      <td>NaN</td>\n",
       "      <td>NaN</td>\n",
       "      <td>773.821606</td>\n",
       "      <td>NaN</td>\n",
       "      <td>0.167572</td>\n",
       "    </tr>\n",
       "    <tr>\n",
       "      <th>min</th>\n",
       "      <td>NaN</td>\n",
       "      <td>NaN</td>\n",
       "      <td>NaN</td>\n",
       "      <td>-163.960000</td>\n",
       "      <td>NaN</td>\n",
       "      <td>0.000000</td>\n",
       "    </tr>\n",
       "    <tr>\n",
       "      <th>25%</th>\n",
       "      <td>NaN</td>\n",
       "      <td>NaN</td>\n",
       "      <td>NaN</td>\n",
       "      <td>99.590000</td>\n",
       "      <td>NaN</td>\n",
       "      <td>0.000000</td>\n",
       "    </tr>\n",
       "    <tr>\n",
       "      <th>50%</th>\n",
       "      <td>NaN</td>\n",
       "      <td>NaN</td>\n",
       "      <td>NaN</td>\n",
       "      <td>150.670000</td>\n",
       "      <td>NaN</td>\n",
       "      <td>0.000000</td>\n",
       "    </tr>\n",
       "    <tr>\n",
       "      <th>75%</th>\n",
       "      <td>NaN</td>\n",
       "      <td>NaN</td>\n",
       "      <td>NaN</td>\n",
       "      <td>200.950000</td>\n",
       "      <td>NaN</td>\n",
       "      <td>0.000000</td>\n",
       "    </tr>\n",
       "    <tr>\n",
       "      <th>max</th>\n",
       "      <td>NaN</td>\n",
       "      <td>NaN</td>\n",
       "      <td>NaN</td>\n",
       "      <td>99999.000000</td>\n",
       "      <td>NaN</td>\n",
       "      <td>1.000000</td>\n",
       "    </tr>\n",
       "  </tbody>\n",
       "</table>\n",
       "</div>"
      ],
      "text/plain": [
       "       transaction_id account_id            timestamp        amount   type  \\\n",
       "count           16808      16808                16808  16807.000000  16808   \n",
       "unique          16659        668                16806           NaN      2   \n",
       "top          TX978293   ACC81730  2024-06-23 09:06:52           NaN  debit   \n",
       "freq                3         64                    2           NaN   8490   \n",
       "mean              NaN        NaN                  NaN    156.105817    NaN   \n",
       "std               NaN        NaN                  NaN    773.821606    NaN   \n",
       "min               NaN        NaN                  NaN   -163.960000    NaN   \n",
       "25%               NaN        NaN                  NaN     99.590000    NaN   \n",
       "50%               NaN        NaN                  NaN    150.670000    NaN   \n",
       "75%               NaN        NaN                  NaN    200.950000    NaN   \n",
       "max               NaN        NaN                  NaN  99999.000000    NaN   \n",
       "\n",
       "            is_fraud  \n",
       "count   16808.000000  \n",
       "unique           NaN  \n",
       "top              NaN  \n",
       "freq             NaN  \n",
       "mean        0.028915  \n",
       "std         0.167572  \n",
       "min         0.000000  \n",
       "25%         0.000000  \n",
       "50%         0.000000  \n",
       "75%         0.000000  \n",
       "max         1.000000  "
      ]
     },
     "metadata": {},
     "output_type": "display_data"
    }
   ],
   "source": [
    "print(\"Customer Data Summary:\")\n",
    "display(customers.describe(include='all'))\n",
    "\n",
    "print(\"Account Data Summary:\")\n",
    "display(accounts.describe(include='all'))\n",
    "\n",
    "print(\"Transaction Data Summary:\")\n",
    "display(transactions.describe(include='all'))\n"
   ]
  }
 ],
 "metadata": {
  "kernelspec": {
   "display_name": "Python 3",
   "language": "python",
   "name": "python3"
  },
  "language_info": {
   "codemirror_mode": {
    "name": "ipython",
    "version": 3
   },
   "file_extension": ".py",
   "mimetype": "text/x-python",
   "name": "python",
   "nbconvert_exporter": "python",
   "pygments_lexer": "ipython3",
   "version": "3.8.10"
  }
 },
 "nbformat": 4,
 "nbformat_minor": 5
}
